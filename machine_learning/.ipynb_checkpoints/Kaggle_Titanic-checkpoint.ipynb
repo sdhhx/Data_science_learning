{
 "cells": [
  {
   "cell_type": "code",
   "execution_count": 16,
   "metadata": {
    "collapsed": true
   },
   "outputs": [],
   "source": [
    "import pandas as pd\n",
    "import numpy as np\n",
    "from sklearn.model_selection import train_test_split\n",
    "from sklearn.ensemble import RandomForestRegressor\n",
    "from sklearn.preprocessing import StandardScaler\n",
    "from sklearn.pipeline import Pipeline\n",
    "\n",
    "#Age、Embarked、Cabin都有为空值\n",
    "data_train = pd.read_csv(\"./Kaggle_Titanic/train.csv\")\n",
    "#test.csv有一个Fare为空值\n",
    "data_test = pd.read_csv(\"./Kaggle_Titanic/test.csv\")\n",
    "\n",
    "#合并两组数据以便同时进行特征工程\n",
    "data_train['isTrain'] = 1\n",
    "data_test['isTrain'] = 0\n",
    "data = pd.concat([data_train, data_test], axis=0)\n",
    "\n",
    "#将Cabin的内容转换为Cabin的有无\n",
    "data.loc[(data.Cabin.notnull()), 'Cabin'] = \"Yes\"\n",
    "data.loc[(data.Cabin.isnull()), 'Cabin'] = \"No\"\n",
    "\n",
    "#填充唯一缺失的Fare值\n",
    "data.loc[(data.Fare.isnull()), 'Fare'] = data.Fare.mean()\n",
    "\n",
    "#随机森林预测，填充缺失值\n",
    "age_df = data[['Age','Fare', 'Parch', 'SibSp', 'Pclass']]\n",
    "known_age = age_df[age_df.Age.notnull()].as_matrix()\n",
    "unknown_age = age_df[age_df.Age.isnull()].as_matrix()\n",
    "y = known_age[:, 0]\n",
    "X = known_age[:, 1:]\n",
    "pipe = Pipeline([(\"rfr\",RandomForestRegressor(random_state=0, n_estimators=2000, n_jobs=-1))])\n",
    "pipe.fit(X, y)\n",
    "predictedAges = pipe.predict(unknown_age[:, 1::])\n",
    "data.loc[(data.Age.isnull()), 'Age'] = predictedAges\n",
    "\n",
    "#类别特征的One-Hot编码\n",
    "dummies_Cabin = pd.get_dummies(data['Cabin'], prefix= 'Cabin')\n",
    "dummies_Embarked = pd.get_dummies(data['Embarked'], prefix= 'Embarked')\n",
    "dummies_Sex = pd.get_dummies(data['Sex'], prefix= 'Sex')\n",
    "dummies_Pclass = pd.get_dummies(data['Pclass'], prefix= 'Pclass')\n",
    "data = pd.concat([data, dummies_Cabin, dummies_Embarked, dummies_Sex, dummies_Pclass], axis=1)\n",
    "data.drop(['Pclass', 'Name', 'Sex', 'Ticket', 'Cabin', 'Embarked'], axis=1, inplace=True)\n",
    "\n",
    "#特征值放缩，若对整体进行StandardScaler，会对原先的布尔值产生影响，故不与后续步骤合并为一个Pipeline。\n",
    "pipe = Pipeline([(\"scaler\",StandardScaler(copy= False))])\n",
    "pipe.fit_transform(data['Age'].values.reshape(-1, 1))\n",
    "pipe.fit_transform(data['Fare'].values.reshape(-1, 1))\n",
    "\n",
    "#选择用于训练与预测的数值列\n",
    "data = data.filter(regex='Survived|Age|SibSp|Parch|Fare|Cabin_.*|Embarked_.*|Sex_.*|Pclass.*|isTrain')\n",
    "\n",
    "#训练集\n",
    "train_data = data[data.isTrain == 1]\n",
    "train_data = train_data.drop(['isTrain'], axis = 1)\n",
    "\n",
    "#测试集\n",
    "test_data = data[data.isTrain == 0]\n",
    "test_data = test_data.drop(['isTrain', 'Survived'], axis = 1)\n",
    "\n",
    "#训练集与验证集的切分，索引会被混排\n",
    "X = train_data.drop(['Survived'], axis = 1)\n",
    "y = train_data.Survived\n",
    "X_train, X_test, y_train, y_test = train_test_split(X, y, test_size=0.3, random_state=0)"
   ]
  },
  {
   "cell_type": "code",
   "execution_count": 18,
   "metadata": {
    "collapsed": false
   },
   "outputs": [
    {
     "name": "stdout",
     "output_type": "stream",
     "text": [
      "Accuracy: 0.82090\n"
     ]
    }
   ],
   "source": [
    "from sklearn.ensemble import BaggingRegressor\n",
    "from sklearn.linear_model import LogisticRegression\n",
    "from sklearn.metrics import accuracy_score\n",
    "from sklearn.model_selection import GridSearchCV\n",
    "from sklearn.pipeline import Pipeline\n",
    "\n",
    "pipe = Pipeline([(\"lr\", LogisticRegression())])\n",
    "param_grid = {\n",
    "    'lr__penalty': ['l1', 'l2'],\n",
    "    'lr__C' : [0.01, 0.1, 1.0, 10.0, 100.0, 1000.0]\n",
    "}\n",
    "grid_search = GridSearchCV(pipe, param_grid, cv=5)\n",
    "grid_search.fit(X_train, y_train)\n",
    "\n",
    "#bagging模型融合：预测值不是二维的，这里的做法是按0.5以上或0.5以下进行划分\n",
    "bagging = BaggingRegressor(grid_search, n_estimators=10, max_samples=0.8, max_features=1.0, bootstrap=True,\\\n",
    "                           bootstrap_features=False, n_jobs=-1)\n",
    "bagging.fit(X, y)\n",
    "y_pred = bagging.predict(X_test)\n",
    "y_pred[y_pred >= 0.5] = 1.\n",
    "y_pred[y_pred < 0.5] = 0.\n",
    "print('Accuracy: %.5f' % accuracy_score(y_test, y_pred))"
   ]
  },
  {
   "cell_type": "code",
   "execution_count": 19,
   "metadata": {
    "collapsed": false
   },
   "outputs": [],
   "source": [
    "t_result = bagging.predict(test_data)\n",
    "t_result[t_result >= 0.5] = 1.\n",
    "t_result[t_result < 0.5] = 0.\n",
    "test_data['Survived'] = t_result\n",
    "result = pd.DataFrame({'PassengerId':data_test['PassengerId'].as_matrix(), 'Survived':t_result.astype(np.int32)})\n",
    "result.to_csv(\"./logistic_regression_predictions.csv\", index=False)"
   ]
  }
 ],
 "metadata": {
  "kernelspec": {
   "display_name": "Python 2",
   "language": "python",
   "name": "python2"
  },
  "language_info": {
   "codemirror_mode": {
    "name": "ipython",
    "version": 2
   },
   "file_extension": ".py",
   "mimetype": "text/x-python",
   "name": "python",
   "nbconvert_exporter": "python",
   "pygments_lexer": "ipython2",
   "version": "2.7.13"
  }
 },
 "nbformat": 4,
 "nbformat_minor": 0
}
